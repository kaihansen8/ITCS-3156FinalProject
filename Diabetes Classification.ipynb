{
 "cells": [
  {
   "cell_type": "markdown",
   "id": "1d7fc4b9-8b06-4f1f-9075-8d3ed8a1ac0f",
   "metadata": {},
   "source": [
    "# Utils"
   ]
  },
  {
   "cell_type": "markdown",
   "id": "9e21e398-d190-43ef-95cc-4b30f3f295cf",
   "metadata": {},
   "source": [
    "### Data Loading"
   ]
  },
  {
   "cell_type": "code",
   "execution_count": 3,
   "id": "cc6aa058-3baa-4cfe-9359-524fd678b1ab",
   "metadata": {},
   "outputs": [],
   "source": [
    "import pandas as pd\n",
    "import seaborn as sbn\n",
    "import matplotlib.pyplot as plt"
   ]
  },
  {
   "cell_type": "markdown",
   "id": "15b5889c-09fd-4635-8426-e13c846b8db6",
   "metadata": {},
   "source": [
    "### Numpy Functions"
   ]
  },
  {
   "cell_type": "code",
   "execution_count": 5,
   "id": "a1be1263-9826-4fde-9603-a8393c33e215",
   "metadata": {},
   "outputs": [],
   "source": [
    "import numpy as np\n",
    "from typing import List, Tuple, Dict"
   ]
  },
  {
   "cell_type": "markdown",
   "id": "e0e802af-fcbc-4487-8aab-e59f674a43b8",
   "metadata": {},
   "source": [
    "### Sklearn Inputs"
   ]
  },
  {
   "cell_type": "code",
   "execution_count": 7,
   "id": "dc87695f-5ebc-412b-9225-ee9d136f06a7",
   "metadata": {},
   "outputs": [],
   "source": [
    "import sklearn\n",
    "from sklearn.preprocessing import StandardScaler, LabelEncoder, OneHotEncoder\n",
    "from sklearn.model_selection import train_test_split\n",
    "from sklearn.metrics import accuracy_score as acc\n",
    "from sklearn.metrics import confusion_matrix"
   ]
  },
  {
   "cell_type": "markdown",
   "id": "0bbc7fd9-ea84-4377-835e-695294c0d178",
   "metadata": {},
   "source": [
    "# Data Loading and Visualization"
   ]
  },
  {
   "cell_type": "markdown",
   "id": "c1f7168e-3f3d-4efa-ad28-b236ba6d7408",
   "metadata": {},
   "source": [
    "I got my dataset from <br>\n",
    "https://www.kaggle.com/datasets/iammustafatz/diabetes-prediction-dataset"
   ]
  },
  {
   "cell_type": "code",
   "execution_count": 10,
   "id": "93104d82-efd9-4ba9-8946-b191cccc4b35",
   "metadata": {},
   "outputs": [
    {
     "data": {
      "text/html": [
       "<div>\n",
       "<style scoped>\n",
       "    .dataframe tbody tr th:only-of-type {\n",
       "        vertical-align: middle;\n",
       "    }\n",
       "\n",
       "    .dataframe tbody tr th {\n",
       "        vertical-align: top;\n",
       "    }\n",
       "\n",
       "    .dataframe thead th {\n",
       "        text-align: right;\n",
       "    }\n",
       "</style>\n",
       "<table border=\"1\" class=\"dataframe\">\n",
       "  <thead>\n",
       "    <tr style=\"text-align: right;\">\n",
       "      <th></th>\n",
       "      <th>gender</th>\n",
       "      <th>age</th>\n",
       "      <th>hypertension</th>\n",
       "      <th>heart_disease</th>\n",
       "      <th>smoking_history</th>\n",
       "      <th>bmi</th>\n",
       "      <th>HbA1c_level</th>\n",
       "      <th>blood_glucose_level</th>\n",
       "      <th>diabetes</th>\n",
       "    </tr>\n",
       "  </thead>\n",
       "  <tbody>\n",
       "    <tr>\n",
       "      <th>0</th>\n",
       "      <td>Female</td>\n",
       "      <td>80.0</td>\n",
       "      <td>0</td>\n",
       "      <td>1</td>\n",
       "      <td>never</td>\n",
       "      <td>25.19</td>\n",
       "      <td>6.6</td>\n",
       "      <td>140</td>\n",
       "      <td>0</td>\n",
       "    </tr>\n",
       "    <tr>\n",
       "      <th>1</th>\n",
       "      <td>Female</td>\n",
       "      <td>54.0</td>\n",
       "      <td>0</td>\n",
       "      <td>0</td>\n",
       "      <td>No Info</td>\n",
       "      <td>27.32</td>\n",
       "      <td>6.6</td>\n",
       "      <td>80</td>\n",
       "      <td>0</td>\n",
       "    </tr>\n",
       "    <tr>\n",
       "      <th>2</th>\n",
       "      <td>Male</td>\n",
       "      <td>28.0</td>\n",
       "      <td>0</td>\n",
       "      <td>0</td>\n",
       "      <td>never</td>\n",
       "      <td>27.32</td>\n",
       "      <td>5.7</td>\n",
       "      <td>158</td>\n",
       "      <td>0</td>\n",
       "    </tr>\n",
       "    <tr>\n",
       "      <th>3</th>\n",
       "      <td>Female</td>\n",
       "      <td>36.0</td>\n",
       "      <td>0</td>\n",
       "      <td>0</td>\n",
       "      <td>current</td>\n",
       "      <td>23.45</td>\n",
       "      <td>5.0</td>\n",
       "      <td>155</td>\n",
       "      <td>0</td>\n",
       "    </tr>\n",
       "    <tr>\n",
       "      <th>4</th>\n",
       "      <td>Male</td>\n",
       "      <td>76.0</td>\n",
       "      <td>1</td>\n",
       "      <td>1</td>\n",
       "      <td>current</td>\n",
       "      <td>20.14</td>\n",
       "      <td>4.8</td>\n",
       "      <td>155</td>\n",
       "      <td>0</td>\n",
       "    </tr>\n",
       "    <tr>\n",
       "      <th>...</th>\n",
       "      <td>...</td>\n",
       "      <td>...</td>\n",
       "      <td>...</td>\n",
       "      <td>...</td>\n",
       "      <td>...</td>\n",
       "      <td>...</td>\n",
       "      <td>...</td>\n",
       "      <td>...</td>\n",
       "      <td>...</td>\n",
       "    </tr>\n",
       "    <tr>\n",
       "      <th>99995</th>\n",
       "      <td>Female</td>\n",
       "      <td>80.0</td>\n",
       "      <td>0</td>\n",
       "      <td>0</td>\n",
       "      <td>No Info</td>\n",
       "      <td>27.32</td>\n",
       "      <td>6.2</td>\n",
       "      <td>90</td>\n",
       "      <td>0</td>\n",
       "    </tr>\n",
       "    <tr>\n",
       "      <th>99996</th>\n",
       "      <td>Female</td>\n",
       "      <td>2.0</td>\n",
       "      <td>0</td>\n",
       "      <td>0</td>\n",
       "      <td>No Info</td>\n",
       "      <td>17.37</td>\n",
       "      <td>6.5</td>\n",
       "      <td>100</td>\n",
       "      <td>0</td>\n",
       "    </tr>\n",
       "    <tr>\n",
       "      <th>99997</th>\n",
       "      <td>Male</td>\n",
       "      <td>66.0</td>\n",
       "      <td>0</td>\n",
       "      <td>0</td>\n",
       "      <td>former</td>\n",
       "      <td>27.83</td>\n",
       "      <td>5.7</td>\n",
       "      <td>155</td>\n",
       "      <td>0</td>\n",
       "    </tr>\n",
       "    <tr>\n",
       "      <th>99998</th>\n",
       "      <td>Female</td>\n",
       "      <td>24.0</td>\n",
       "      <td>0</td>\n",
       "      <td>0</td>\n",
       "      <td>never</td>\n",
       "      <td>35.42</td>\n",
       "      <td>4.0</td>\n",
       "      <td>100</td>\n",
       "      <td>0</td>\n",
       "    </tr>\n",
       "    <tr>\n",
       "      <th>99999</th>\n",
       "      <td>Female</td>\n",
       "      <td>57.0</td>\n",
       "      <td>0</td>\n",
       "      <td>0</td>\n",
       "      <td>current</td>\n",
       "      <td>22.43</td>\n",
       "      <td>6.6</td>\n",
       "      <td>90</td>\n",
       "      <td>0</td>\n",
       "    </tr>\n",
       "  </tbody>\n",
       "</table>\n",
       "<p>100000 rows × 9 columns</p>\n",
       "</div>"
      ],
      "text/plain": [
       "       gender   age  hypertension  heart_disease smoking_history    bmi  \\\n",
       "0      Female  80.0             0              1           never  25.19   \n",
       "1      Female  54.0             0              0         No Info  27.32   \n",
       "2        Male  28.0             0              0           never  27.32   \n",
       "3      Female  36.0             0              0         current  23.45   \n",
       "4        Male  76.0             1              1         current  20.14   \n",
       "...       ...   ...           ...            ...             ...    ...   \n",
       "99995  Female  80.0             0              0         No Info  27.32   \n",
       "99996  Female   2.0             0              0         No Info  17.37   \n",
       "99997    Male  66.0             0              0          former  27.83   \n",
       "99998  Female  24.0             0              0           never  35.42   \n",
       "99999  Female  57.0             0              0         current  22.43   \n",
       "\n",
       "       HbA1c_level  blood_glucose_level  diabetes  \n",
       "0              6.6                  140         0  \n",
       "1              6.6                   80         0  \n",
       "2              5.7                  158         0  \n",
       "3              5.0                  155         0  \n",
       "4              4.8                  155         0  \n",
       "...            ...                  ...       ...  \n",
       "99995          6.2                   90         0  \n",
       "99996          6.5                  100         0  \n",
       "99997          5.7                  155         0  \n",
       "99998          4.0                  100         0  \n",
       "99999          6.6                   90         0  \n",
       "\n",
       "[100000 rows x 9 columns]"
      ]
     },
     "metadata": {},
     "output_type": "display_data"
    }
   ],
   "source": [
    "diabetes_df = pd.read_csv('diabetes_prediction_dataset.csv')\n",
    "display(diabetes_df)"
   ]
  },
  {
   "cell_type": "code",
   "execution_count": 11,
   "id": "fa5ca86d-7da4-4c69-aa54-10594df22b35",
   "metadata": {},
   "outputs": [
    {
     "name": "stdout",
     "output_type": "stream",
     "text": [
      "<class 'pandas.core.frame.DataFrame'>\n",
      "RangeIndex: 100000 entries, 0 to 99999\n",
      "Data columns (total 9 columns):\n",
      " #   Column               Non-Null Count   Dtype  \n",
      "---  ------               --------------   -----  \n",
      " 0   gender               100000 non-null  object \n",
      " 1   age                  100000 non-null  float64\n",
      " 2   hypertension         100000 non-null  int64  \n",
      " 3   heart_disease        100000 non-null  int64  \n",
      " 4   smoking_history      100000 non-null  object \n",
      " 5   bmi                  100000 non-null  float64\n",
      " 6   HbA1c_level          100000 non-null  float64\n",
      " 7   blood_glucose_level  100000 non-null  int64  \n",
      " 8   diabetes             100000 non-null  int64  \n",
      "dtypes: float64(3), int64(4), object(2)\n",
      "memory usage: 6.9+ MB\n"
     ]
    }
   ],
   "source": [
    "diabetes_df.info()"
   ]
  },
  {
   "cell_type": "code",
   "execution_count": 12,
   "id": "f1fac3a8-1fee-408a-9bcc-f3b638e423bd",
   "metadata": {},
   "outputs": [
    {
     "data": {
      "text/html": [
       "<div>\n",
       "<style scoped>\n",
       "    .dataframe tbody tr th:only-of-type {\n",
       "        vertical-align: middle;\n",
       "    }\n",
       "\n",
       "    .dataframe tbody tr th {\n",
       "        vertical-align: top;\n",
       "    }\n",
       "\n",
       "    .dataframe thead th {\n",
       "        text-align: right;\n",
       "    }\n",
       "</style>\n",
       "<table border=\"1\" class=\"dataframe\">\n",
       "  <thead>\n",
       "    <tr style=\"text-align: right;\">\n",
       "      <th></th>\n",
       "      <th>count</th>\n",
       "      <th>mean</th>\n",
       "      <th>std</th>\n",
       "      <th>min</th>\n",
       "      <th>25%</th>\n",
       "      <th>50%</th>\n",
       "      <th>75%</th>\n",
       "      <th>max</th>\n",
       "    </tr>\n",
       "  </thead>\n",
       "  <tbody>\n",
       "    <tr>\n",
       "      <th>age</th>\n",
       "      <td>100000.0</td>\n",
       "      <td>41.885856</td>\n",
       "      <td>22.516840</td>\n",
       "      <td>0.08</td>\n",
       "      <td>24.00</td>\n",
       "      <td>43.00</td>\n",
       "      <td>60.00</td>\n",
       "      <td>80.00</td>\n",
       "    </tr>\n",
       "    <tr>\n",
       "      <th>hypertension</th>\n",
       "      <td>100000.0</td>\n",
       "      <td>0.074850</td>\n",
       "      <td>0.263150</td>\n",
       "      <td>0.00</td>\n",
       "      <td>0.00</td>\n",
       "      <td>0.00</td>\n",
       "      <td>0.00</td>\n",
       "      <td>1.00</td>\n",
       "    </tr>\n",
       "    <tr>\n",
       "      <th>heart_disease</th>\n",
       "      <td>100000.0</td>\n",
       "      <td>0.039420</td>\n",
       "      <td>0.194593</td>\n",
       "      <td>0.00</td>\n",
       "      <td>0.00</td>\n",
       "      <td>0.00</td>\n",
       "      <td>0.00</td>\n",
       "      <td>1.00</td>\n",
       "    </tr>\n",
       "    <tr>\n",
       "      <th>bmi</th>\n",
       "      <td>100000.0</td>\n",
       "      <td>27.320767</td>\n",
       "      <td>6.636783</td>\n",
       "      <td>10.01</td>\n",
       "      <td>23.63</td>\n",
       "      <td>27.32</td>\n",
       "      <td>29.58</td>\n",
       "      <td>95.69</td>\n",
       "    </tr>\n",
       "    <tr>\n",
       "      <th>HbA1c_level</th>\n",
       "      <td>100000.0</td>\n",
       "      <td>5.527507</td>\n",
       "      <td>1.070672</td>\n",
       "      <td>3.50</td>\n",
       "      <td>4.80</td>\n",
       "      <td>5.80</td>\n",
       "      <td>6.20</td>\n",
       "      <td>9.00</td>\n",
       "    </tr>\n",
       "    <tr>\n",
       "      <th>blood_glucose_level</th>\n",
       "      <td>100000.0</td>\n",
       "      <td>138.058060</td>\n",
       "      <td>40.708136</td>\n",
       "      <td>80.00</td>\n",
       "      <td>100.00</td>\n",
       "      <td>140.00</td>\n",
       "      <td>159.00</td>\n",
       "      <td>300.00</td>\n",
       "    </tr>\n",
       "    <tr>\n",
       "      <th>diabetes</th>\n",
       "      <td>100000.0</td>\n",
       "      <td>0.085000</td>\n",
       "      <td>0.278883</td>\n",
       "      <td>0.00</td>\n",
       "      <td>0.00</td>\n",
       "      <td>0.00</td>\n",
       "      <td>0.00</td>\n",
       "      <td>1.00</td>\n",
       "    </tr>\n",
       "  </tbody>\n",
       "</table>\n",
       "</div>"
      ],
      "text/plain": [
       "                        count        mean        std    min     25%     50%  \\\n",
       "age                  100000.0   41.885856  22.516840   0.08   24.00   43.00   \n",
       "hypertension         100000.0    0.074850   0.263150   0.00    0.00    0.00   \n",
       "heart_disease        100000.0    0.039420   0.194593   0.00    0.00    0.00   \n",
       "bmi                  100000.0   27.320767   6.636783  10.01   23.63   27.32   \n",
       "HbA1c_level          100000.0    5.527507   1.070672   3.50    4.80    5.80   \n",
       "blood_glucose_level  100000.0  138.058060  40.708136  80.00  100.00  140.00   \n",
       "diabetes             100000.0    0.085000   0.278883   0.00    0.00    0.00   \n",
       "\n",
       "                        75%     max  \n",
       "age                   60.00   80.00  \n",
       "hypertension           0.00    1.00  \n",
       "heart_disease          0.00    1.00  \n",
       "bmi                   29.58   95.69  \n",
       "HbA1c_level            6.20    9.00  \n",
       "blood_glucose_level  159.00  300.00  \n",
       "diabetes               0.00    1.00  "
      ]
     },
     "execution_count": 12,
     "metadata": {},
     "output_type": "execute_result"
    }
   ],
   "source": [
    "diabetes_df.describe().T"
   ]
  },
  {
   "cell_type": "code",
   "execution_count": 13,
   "id": "688f5e52-ed39-482c-a009-279b779135a0",
   "metadata": {},
   "outputs": [
    {
     "data": {
      "text/plain": [
       "<Axes: >"
      ]
     },
     "execution_count": 13,
     "metadata": {},
     "output_type": "execute_result"
    },
    {
     "data": {
      "image/png": "[encoded data removed]",
      "text/plain": [
       "<Figure size 640x480 with 1 Axes>"
      ]
     },
     "metadata": {},
     "output_type": "display_data"
    }
   ],
   "source": [
    "diabetes_df.boxplot()"
   ]
  },
  {
   "cell_type": "code",
   "execution_count": 14,
   "id": "8e4e4b0a-987e-43b9-9d8b-0ab3d1966dcc",
   "metadata": {},
   "outputs": [
    {
     "data": {
      "image/png": "[encoded data removed]",
      "text/plain": [
       "<Figure size 640x480 with 2 Axes>"
      ]
     },
     "metadata": {},
     "output_type": "display_data"
    }
   ],
   "source": [
    "corr = diabetes_df.drop(columns=['gender', 'smoking_history']).corr()\n",
    "plt.show(sbn.heatmap(corr))"
   ]
  },
  {
   "cell_type": "markdown",
   "id": "99b8e55d-009a-4a50-be72-c104d0df5800",
   "metadata": {},
   "source": [
    "# Data Pre-Processing and Cleaning"
   ]
  },
  {
   "cell_type": "markdown",
   "id": "138ea847-8b51-4b3c-8e21-6c91af8b297a",
   "metadata": {},
   "source": [
    "### Duplicated Rows"
   ]
  },
  {
   "cell_type": "code",
   "execution_count": 17,
   "id": "b68af3c2-4a6b-45c1-9ada-c3f891505174",
   "metadata": {},
   "outputs": [
    {
     "data": {
      "text/plain": [
       "3854"
      ]
     },
     "execution_count": 17,
     "metadata": {},
     "output_type": "execute_result"
    }
   ],
   "source": [
    "diabetes_df.duplicated().sum()"
   ]
  },
  {
   "cell_type": "code",
   "execution_count": 18,
   "id": "4dfb8b7a-34f2-4a38-a4db-f8a2f6b9243c",
   "metadata": {},
   "outputs": [],
   "source": [
    "diabetes_df.drop_duplicates(inplace=True)"
   ]
  },
  {
   "cell_type": "code",
   "execution_count": 19,
   "id": "1d7b82a5-8a5a-4f48-85f2-1113e8d6ea67",
   "metadata": {},
   "outputs": [
    {
     "data": {
      "text/plain": [
       "(96146, 9)"
      ]
     },
     "execution_count": 19,
     "metadata": {},
     "output_type": "execute_result"
    }
   ],
   "source": [
    "diabetes_df.shape"
   ]
  },
  {
   "cell_type": "markdown",
   "id": "9b1e2194-6000-40ab-ac52-1bbea4e85c76",
   "metadata": {},
   "source": [
    "### Convert Columns to Int"
   ]
  },
  {
   "cell_type": "code",
   "execution_count": 21,
   "id": "0640dad6-2856-4ad5-a20c-459434c94d55",
   "metadata": {},
   "outputs": [
    {
     "name": "stdout",
     "output_type": "stream",
     "text": [
      "<class 'pandas.core.frame.DataFrame'>\n",
      "Index: 96146 entries, 0 to 99999\n",
      "Data columns (total 9 columns):\n",
      " #   Column               Non-Null Count  Dtype  \n",
      "---  ------               --------------  -----  \n",
      " 0   gender               96146 non-null  int64  \n",
      " 1   age                  96146 non-null  float64\n",
      " 2   hypertension         96146 non-null  int64  \n",
      " 3   heart_disease        96146 non-null  int64  \n",
      " 4   smoking_history      96146 non-null  int64  \n",
      " 5   bmi                  96146 non-null  float64\n",
      " 6   HbA1c_level          96146 non-null  float64\n",
      " 7   blood_glucose_level  96146 non-null  int64  \n",
      " 8   diabetes             96146 non-null  int64  \n",
      "dtypes: float64(3), int64(6)\n",
      "memory usage: 7.3 MB\n"
     ]
    }
   ],
   "source": [
    "label_encoder = LabelEncoder()\n",
    "change_columns = ['gender','smoking_history']\n",
    "for column in change_columns:\n",
    "    diabetes_df[column] = label_encoder.fit_transform(diabetes_df[column])\n",
    "    diabetes_df[column] = diabetes_df[column].astype('int64')\n",
    "diabetes_df.info()"
   ]
  },
  {
   "cell_type": "code",
   "execution_count": 22,
   "id": "c5c069eb-3c4b-434c-bc50-b70029d74e8c",
   "metadata": {},
   "outputs": [
    {
     "data": {
      "text/html": [
       "<div>\n",
       "<style scoped>\n",
       "    .dataframe tbody tr th:only-of-type {\n",
       "        vertical-align: middle;\n",
       "    }\n",
       "\n",
       "    .dataframe tbody tr th {\n",
       "        vertical-align: top;\n",
       "    }\n",
       "\n",
       "    .dataframe thead th {\n",
       "        text-align: right;\n",
       "    }\n",
       "</style>\n",
       "<table border=\"1\" class=\"dataframe\">\n",
       "  <thead>\n",
       "    <tr style=\"text-align: right;\">\n",
       "      <th></th>\n",
       "      <th>gender</th>\n",
       "      <th>age</th>\n",
       "      <th>hypertension</th>\n",
       "      <th>heart_disease</th>\n",
       "      <th>smoking_history</th>\n",
       "      <th>bmi</th>\n",
       "      <th>HbA1c_level</th>\n",
       "      <th>blood_glucose_level</th>\n",
       "      <th>diabetes</th>\n",
       "    </tr>\n",
       "  </thead>\n",
       "  <tbody>\n",
       "    <tr>\n",
       "      <th>0</th>\n",
       "      <td>0</td>\n",
       "      <td>80.0</td>\n",
       "      <td>0</td>\n",
       "      <td>1</td>\n",
       "      <td>4</td>\n",
       "      <td>25.19</td>\n",
       "      <td>6.6</td>\n",
       "      <td>140</td>\n",
       "      <td>0</td>\n",
       "    </tr>\n",
       "    <tr>\n",
       "      <th>1</th>\n",
       "      <td>0</td>\n",
       "      <td>54.0</td>\n",
       "      <td>0</td>\n",
       "      <td>0</td>\n",
       "      <td>0</td>\n",
       "      <td>27.32</td>\n",
       "      <td>6.6</td>\n",
       "      <td>80</td>\n",
       "      <td>0</td>\n",
       "    </tr>\n",
       "    <tr>\n",
       "      <th>2</th>\n",
       "      <td>1</td>\n",
       "      <td>28.0</td>\n",
       "      <td>0</td>\n",
       "      <td>0</td>\n",
       "      <td>4</td>\n",
       "      <td>27.32</td>\n",
       "      <td>5.7</td>\n",
       "      <td>158</td>\n",
       "      <td>0</td>\n",
       "    </tr>\n",
       "    <tr>\n",
       "      <th>3</th>\n",
       "      <td>0</td>\n",
       "      <td>36.0</td>\n",
       "      <td>0</td>\n",
       "      <td>0</td>\n",
       "      <td>1</td>\n",
       "      <td>23.45</td>\n",
       "      <td>5.0</td>\n",
       "      <td>155</td>\n",
       "      <td>0</td>\n",
       "    </tr>\n",
       "    <tr>\n",
       "      <th>4</th>\n",
       "      <td>1</td>\n",
       "      <td>76.0</td>\n",
       "      <td>1</td>\n",
       "      <td>1</td>\n",
       "      <td>1</td>\n",
       "      <td>20.14</td>\n",
       "      <td>4.8</td>\n",
       "      <td>155</td>\n",
       "      <td>0</td>\n",
       "    </tr>\n",
       "    <tr>\n",
       "      <th>...</th>\n",
       "      <td>...</td>\n",
       "      <td>...</td>\n",
       "      <td>...</td>\n",
       "      <td>...</td>\n",
       "      <td>...</td>\n",
       "      <td>...</td>\n",
       "      <td>...</td>\n",
       "      <td>...</td>\n",
       "      <td>...</td>\n",
       "    </tr>\n",
       "    <tr>\n",
       "      <th>99994</th>\n",
       "      <td>0</td>\n",
       "      <td>36.0</td>\n",
       "      <td>0</td>\n",
       "      <td>0</td>\n",
       "      <td>0</td>\n",
       "      <td>24.60</td>\n",
       "      <td>4.8</td>\n",
       "      <td>145</td>\n",
       "      <td>0</td>\n",
       "    </tr>\n",
       "    <tr>\n",
       "      <th>99996</th>\n",
       "      <td>0</td>\n",
       "      <td>2.0</td>\n",
       "      <td>0</td>\n",
       "      <td>0</td>\n",
       "      <td>0</td>\n",
       "      <td>17.37</td>\n",
       "      <td>6.5</td>\n",
       "      <td>100</td>\n",
       "      <td>0</td>\n",
       "    </tr>\n",
       "    <tr>\n",
       "      <th>99997</th>\n",
       "      <td>1</td>\n",
       "      <td>66.0</td>\n",
       "      <td>0</td>\n",
       "      <td>0</td>\n",
       "      <td>3</td>\n",
       "      <td>27.83</td>\n",
       "      <td>5.7</td>\n",
       "      <td>155</td>\n",
       "      <td>0</td>\n",
       "    </tr>\n",
       "    <tr>\n",
       "      <th>99998</th>\n",
       "      <td>0</td>\n",
       "      <td>24.0</td>\n",
       "      <td>0</td>\n",
       "      <td>0</td>\n",
       "      <td>4</td>\n",
       "      <td>35.42</td>\n",
       "      <td>4.0</td>\n",
       "      <td>100</td>\n",
       "      <td>0</td>\n",
       "    </tr>\n",
       "    <tr>\n",
       "      <th>99999</th>\n",
       "      <td>0</td>\n",
       "      <td>57.0</td>\n",
       "      <td>0</td>\n",
       "      <td>0</td>\n",
       "      <td>1</td>\n",
       "      <td>22.43</td>\n",
       "      <td>6.6</td>\n",
       "      <td>90</td>\n",
       "      <td>0</td>\n",
       "    </tr>\n",
       "  </tbody>\n",
       "</table>\n",
       "<p>96146 rows × 9 columns</p>\n",
       "</div>"
      ],
      "text/plain": [
       "       gender   age  hypertension  heart_disease  smoking_history    bmi  \\\n",
       "0           0  80.0             0              1                4  25.19   \n",
       "1           0  54.0             0              0                0  27.32   \n",
       "2           1  28.0             0              0                4  27.32   \n",
       "3           0  36.0             0              0                1  23.45   \n",
       "4           1  76.0             1              1                1  20.14   \n",
       "...       ...   ...           ...            ...              ...    ...   \n",
       "99994       0  36.0             0              0                0  24.60   \n",
       "99996       0   2.0             0              0                0  17.37   \n",
       "99997       1  66.0             0              0                3  27.83   \n",
       "99998       0  24.0             0              0                4  35.42   \n",
       "99999       0  57.0             0              0                1  22.43   \n",
       "\n",
       "       HbA1c_level  blood_glucose_level  diabetes  \n",
       "0              6.6                  140         0  \n",
       "1              6.6                   80         0  \n",
       "2              5.7                  158         0  \n",
       "3              5.0                  155         0  \n",
       "4              4.8                  155         0  \n",
       "...            ...                  ...       ...  \n",
       "99994          4.8                  145         0  \n",
       "99996          6.5                  100         0  \n",
       "99997          5.7                  155         0  \n",
       "99998          4.0                  100         0  \n",
       "99999          6.6                   90         0  \n",
       "\n",
       "[96146 rows x 9 columns]"
      ]
     },
     "metadata": {},
     "output_type": "display_data"
    }
   ],
   "source": [
    "display(diabetes_df)"
   ]
  },
  {
   "cell_type": "markdown",
   "id": "3e555a0d-8f6f-4b86-98ea-7c8d6b201d57",
   "metadata": {},
   "source": [
    "### Re-visualize Correlations"
   ]
  },
  {
   "cell_type": "code",
   "execution_count": 24,
   "id": "b53687f9-7645-45ca-b718-4f39b0dbee13",
   "metadata": {},
   "outputs": [
    {
     "data": {
      "image/png": "[encoded data removed]",
      "text/plain": [
       "<Figure size 640x480 with 2 Axes>"
      ]
     },
     "metadata": {},
     "output_type": "display_data"
    }
   ],
   "source": [
    "corr = diabetes_df.corr()\n",
    "plt.show(sbn.heatmap(corr))"
   ]
  },
  {
   "cell_type": "markdown",
   "id": "cd47ece9-1fb6-4907-aa92-24824db5a5c5",
   "metadata": {},
   "source": [
    "### Binarize Classes"
   ]
  },
  {
   "cell_type": "code",
   "execution_count": 26,
   "id": "4562e760-ec80-471f-812d-45e07aae4a93",
   "metadata": {},
   "outputs": [],
   "source": [
    "def binarize_classes(X: np.ndarray, y: np.ndarray, pos_class: List[int], neg_class: List[int]) -> Tuple[np.ndarray, np.ndarray]:\n",
    "    \"\"\"\n",
    "    Function: Take positive and negative list and convert target into positive or negative label\n",
    "    - X: input data\n",
    "    - y: target data\n",
    "    - pos_class: list of positive class labels\n",
    "    - neg_class: list of negative class labels\n",
    "    Returns: processed data converted into list containing positive and negative classes\n",
    "    \"\"\"\n",
    "    X = X.copy()\n",
    "    y = y.copy()\n",
    "    # Find positive data indices and put them together\n",
    "    pos_indices = np.where(np.isin(y, pos_class))\n",
    "    X_pos, y_pos = X[pos_indices], np.ones(X[pos_indices].shape[0])\n",
    "    # Find negative data indices and put them together\n",
    "    neg_indices = np.where(np.isin(y, neg_class))\n",
    "    X_neg, y_neg = X[neg_indices], -np.ones(X[neg_indices].shape[0])\n",
    "    \n",
    "    return np.vstack([X_pos, X_neg]), np.hstack([y_pos, y_neg])"
   ]
  },
  {
   "cell_type": "markdown",
   "id": "8f091fa1-0c9d-43c3-a1c7-7c8269bf4620",
   "metadata": {},
   "source": [
    "### Pre-Process Functions"
   ]
  },
  {
   "cell_type": "code",
   "execution_count": 28,
   "id": "7183aab5-e1fd-46ad-97a0-cff3dc309e1b",
   "metadata": {},
   "outputs": [],
   "source": [
    "def add_bias(X: np.ndarray) -> np.ndarray:\n",
    "    # create bias vector with same number of rows as X\n",
    "    bias = np.ones((X.shape[0], 1))\n",
    "    # combine bias by adding additional first row to the data\n",
    "    combined = np.column_stack((bias,X))\n",
    "    return combined"
   ]
  },
  {
   "cell_type": "code",
   "execution_count": 29,
   "id": "edb8853a-8cf7-40aa-b89b-a1c8f38ed3d5",
   "metadata": {},
   "outputs": [],
   "source": [
    "def get_preprocessed_preceptron_data():\n",
    "    # seperate X and y data and convert to numpy\n",
    "    X, y = binarize_classes(diabetes_df.drop(columns='diabetes').to_numpy(), diabetes_df['diabetes'].to_numpy(), [1], [0])\n",
    "    # split into training and testing\n",
    "    X_trn, X_tst, y_trn, y_tst = train_test_split(X, y, train_size=0.7, random_state=42)\n",
    "    # split into training and validation data\n",
    "    X_trn, X_vld, y_trn, y_vld = train_test_split(X_trn, y_trn, train_size=0.7, random_state=42)\n",
    "    # Standardize Data\n",
    "    scaler = StandardScaler()\n",
    "    scaler.fit(X_trn)\n",
    "    X_trn = scaler.transform(X_trn)\n",
    "    X_vld = scaler.transform(X_vld)\n",
    "    X_tst = scaler.transform(X_tst)\n",
    "    # Add Bias to X data\n",
    "    X_trn, X_vld, X_tst = add_bias(X_trn), add_bias(X_vld), add_bias(X_tst)\n",
    "    # Return and ensure targets are 2D\n",
    "    return X_trn, y_trn.reshape(-1,1), X_vld, y_vld.reshape(-1,1), X_tst, y_tst.reshape(-1,1)"
   ]
  },
  {
   "cell_type": "code",
   "execution_count": 30,
   "id": "b338e31a-4e2c-4cac-9afc-cefa1b907988",
   "metadata": {},
   "outputs": [],
   "source": [
    "def get_preprocessed_logistic_data() -> Tuple[np.ndarray]:\n",
    "    # OneHotCode due to softmax functionality\n",
    "    encoder = OneHotEncoder(sparse_output=False)\n",
    "    X = diabetes_df.drop(columns='diabetes').to_numpy()\n",
    "    y = encoder.fit_transform(diabetes_df['diabetes'].to_numpy().reshape(-1,1))\n",
    "    # split into training and testing\n",
    "    X_trn, X_tst, y_trn, y_tst = train_test_split(X, y, train_size=0.7, random_state=42)\n",
    "    # split into training and validation data\n",
    "    X_trn, X_vld, y_trn, y_vld = train_test_split(X_trn, y_trn, train_size=0.7, random_state=42)\n",
    "    scaler = StandardScaler()\n",
    "    scaler.fit(X_trn)\n",
    "    X_trn = scaler.transform(X_trn)\n",
    "    X_vld = scaler.transform(X_vld)\n",
    "    X_tst = scaler.transform(X_tst)\n",
    "\n",
    "    X_trn, X_vld, X_tst = add_bias(X_trn), add_bias(X_vld), add_bias(X_tst)\n",
    "    \n",
    "    return X_trn, y_trn, X_vld, y_vld, X_tst, y_tst"
   ]
  },
  {
   "cell_type": "markdown",
   "id": "82f630af-ed2f-466c-a1b8-bbf9476df156",
   "metadata": {},
   "source": [
    "### Batching"
   ]
  },
  {
   "cell_type": "code",
   "execution_count": 32,
   "id": "48b7ad76-0cbf-4872-9a47-00872a0f913d",
   "metadata": {},
   "outputs": [],
   "source": [
    "def get_batches(data_len: int, batch_size: int = 30) -> List[np.ndarray]:\n",
    "    # Generate indices\n",
    "    indices = np.arange(data_len)\n",
    "    # randomly shuffle the indices\n",
    "    np.random.shuffle(indices)\n",
    "    # create the batches randomly shuffled indices\n",
    "    batches = []\n",
    "    for i in range(0, data_len, batch_size):\n",
    "        batches.append(indices[i:i + batch_size])\n",
    "    return batches"
   ]
  },
  {
   "cell_type": "markdown",
   "id": "f79d851f-c565-4ce7-a021-c076c6297553",
   "metadata": {},
   "source": [
    "# ML Models"
   ]
  },
  {
   "cell_type": "markdown",
   "id": "523ee43c-8e37-4aca-8d01-9c63093effb6",
   "metadata": {},
   "source": [
    "### Perceptron"
   ]
  },
  {
   "cell_type": "code",
   "execution_count": 35,
   "id": "5cd846f6-a2d0-4571-b247-c76d80cc94c0",
   "metadata": {},
   "outputs": [],
   "source": [
    "class Perceptron():\n",
    "    \"\"\" \n",
    "    Function: Performs binary classification using Rosenblatt's perceptron\n",
    "    - Alpha: learning rate to adjust weights\n",
    "    - Epochs: Number of training intervals to run\n",
    "    - Seed: Random state seed\n",
    "    - self.w: weights used for predictions\n",
    "    - self.trn_acc: list containing history of models accuracy using the training data\n",
    "    - self.vld_acc: list containing history of models accuracy using the validation data\n",
    "    \"\"\"\n",
    "    def __init__(self, alpha: float, seed: int = 0, epochs: int = 1,):\n",
    "        self.alpha = alpha\n",
    "        self.epochs = epochs\n",
    "        self.seed = seed\n",
    "        self.w = None\n",
    "        self.trn_acc = None\n",
    "        self.vld_acc = None\n",
    "    \"\"\"\n",
    "    Function: Train the perceptron to find optimal weights\n",
    "    - self: objects instance\n",
    "    - X: input data to train\n",
    "    - y: target data\n",
    "    - X_vld: validation input data\n",
    "    - y_vld: validation target data\n",
    "    Returns: object reference\n",
    "    \"\"\"\n",
    "    def fit(self, X: np.ndarray, y: np.ndarray, X_vld: np.ndarray=None, y_vld: np.ndarray=None) -> object:\n",
    "        np.random.seed(self.seed) # Set seed for reproducibility\n",
    "        self.trn_acc = []\n",
    "        self.vld_acc = []\n",
    "        # initialize weights to random values\n",
    "        self.w = np.random.rand(X.shape[1])\n",
    "        # run training over self.epochs total times\n",
    "        for e in range(self.epochs):\n",
    "            # reset misclassified value to 0, end training if misclassified remains 0\n",
    "            misclassified = 0\n",
    "            for m in range(len(X)):\n",
    "                z = self.w @ X[m]\n",
    "                y_hat = np.sign(z)\n",
    "                if y_hat != y[m]:\n",
    "                    misclassified = misclassified + 1\n",
    "                    self.w = self.w + (self.alpha * (y[m] * X[m]))\n",
    "            \n",
    "            trn_preds = self.predict(X)\n",
    "            trn_acc = acc(y, trn_preds)\n",
    "            self.trn_acc.append(trn_acc)\n",
    "\n",
    "            if X_vld is not None and y_vld is not None:\n",
    "                vld_preds = self.predict(X_vld)\n",
    "                vld_acc = acc(y_vld, vld_preds)\n",
    "                self.vld_acc.append(vld_acc)\n",
    "            if misclassified == 0:\n",
    "                break\n",
    "        return self \n",
    "\n",
    "    \"\"\"\n",
    "    Function: Make predictions using learned weights and input data X\n",
    "    - self: object instance reference\n",
    "    - X: input data\n",
    "    Returns: prediction of labels\n",
    "    \"\"\"\n",
    "    def predict(self, X: np.ndarray) -> np.ndarray:\n",
    "        pred = np.sign(X @ self.w)\n",
    "        return pred"
   ]
  },
  {
   "cell_type": "markdown",
   "id": "e9e760dc-af7e-468e-86f9-1ab150f72157",
   "metadata": {},
   "source": [
    "### Logistic Regression (Using Softmax Regression with Batch Gradient Descent)"
   ]
  },
  {
   "cell_type": "code",
   "execution_count": 37,
   "id": "ba3e69c9-e64d-41a3-8486-a2620dd7b529",
   "metadata": {},
   "outputs": [],
   "source": [
    "# Got this method of completing the softmax regression via hw-logistic-regression from ITCS-3156\n",
    "\"\"\"\n",
    "Function: Computes the stabilized version of the softmax equation\n",
    "- z: matrix of continous values\n",
    "Return: a numpy array with same shape as input\n",
    "\"\"\"\n",
    "def softmax(z: np.ndarray) -> np.ndarray:\n",
    "    z_exp = z - np.max(z, axis=1, keepdims=True)\n",
    "    e_z = np.exp(z_exp)\n",
    "    sum_z = np.sum(e_z, axis=1, keepdims=True)\n",
    "    return e_z / sum_z"
   ]
  },
  {
   "cell_type": "code",
   "execution_count": 38,
   "id": "15acfd39-7d70-4775-98d7-4205b7030b64",
   "metadata": {},
   "outputs": [],
   "source": [
    "# Got this method of completing the negative log likelihood loss via hw-logistic-regression from ITCS-3156\n",
    "\"\"\"\n",
    "Function: Computes the average generalized NLL Loss\n",
    "- y: True labels\n",
    "- probs: predicted probabilities for the corresponding labels\n",
    "Returns: FLoat \n",
    "\"\"\"\n",
    "def nll_loss(y: np.ndarray, probs: np.ndarray) -> float:\n",
    "    nll = -np.sum(y * np.log(probs)) / len(y)\n",
    "    return nll"
   ]
  },
  {
   "cell_type": "code",
   "execution_count": 39,
   "id": "ca5cc914-aa55-41cd-9c85-63b71207d7bd",
   "metadata": {},
   "outputs": [],
   "source": [
    "class SoftmaxRegression():\n",
    "    \"\"\" \n",
    "    Function: Performs softmax regression using gradient descent\n",
    "    - alpha: learning rate\n",
    "    - batch_size: Size of mini-batches for mini-batch gradient descent.\n",
    "    - epochs: Number of epochs to run for mini-batch gradient descent.\n",
    "    - seed: Seed to be used for NumPy's RandomState class or universal seed np.random.seed() function.\n",
    "    - W: Matrix of weights with shape (N, |K|) \n",
    "    - trn_loss: Stores the training loss for each epoch.\n",
    "    - vld_loss: Stores the validation loss for each epoch.\n",
    "    \"\"\"\n",
    "    def __init__(self, alpha: float, batch_size: int, epochs: int = 1, seed: int = 0,):\n",
    "        self.alpha = alpha\n",
    "        self.batch_size = batch_size\n",
    "        self.epochs = epochs\n",
    "        self.seed = seed\n",
    "        self.W = None\n",
    "        self.trn_loss = None\n",
    "        self.vld_loss = None\n",
    "    \"\"\"\n",
    "    Function: Train the softmax regression model using input data to form weights\n",
    "    - X: Training features/data\n",
    "    - y: Training labels\n",
    "    - X_vld: Validation features/data\n",
    "    - y_vld: Validation labels\n",
    "    - seed: Seed used for initializing weights\n",
    "    \"\"\"\n",
    "    def fit(self, X: np.ndarray, y: np.ndarray, X_vld: np.ndarray=None, y_vld: np.ndarray=None) -> object:\n",
    "        # Set seed for reproducibility\n",
    "        np.random.seed(self.seed)\n",
    "        # Track training/validation loss\n",
    "        self.trn_loss = []\n",
    "        self.vld_loss = []\n",
    "\n",
    "        # initiliaze random weight values\n",
    "        self.W = np.random.rand(X.shape[1], y.shape[1])\n",
    "        # run through self.epochs amount of training loops\n",
    "        for e in range(self.epochs):\n",
    "            # get batches for mini-batch gradient descent and update weights\n",
    "            batches = get_batches(len(X), self.batch_size)\n",
    "            for b in batches:\n",
    "                z = X[b] @ self.W\n",
    "                y_hat = softmax(z)\n",
    "                self.W = self.W - self.alpha * ((X[b].T @ (y_hat - y[b])) / len(b))\n",
    "            f_xw = softmax(X @ self.W)\n",
    "            self.trn_loss.append(nll_loss(y, f_xw))\n",
    "            if X_vld is not None and y_vld is not None:\n",
    "                f_vld_xw = softmax(X_vld @ self.W)\n",
    "                self.vld_loss.append(nll_loss(y_vld, f_vld_xw))\n",
    "        return self\n",
    "\n",
    "    \"\"\"\n",
    "    Function: Make predictions using learned weights\n",
    "    - X: Testing data given as a 2D matrix\n",
    "    Returns: A 2D column vector of predictions for each data sample in X\n",
    "    \"\"\"\n",
    "    def predict(self, X: np.ndarray) -> np.ndarray:\n",
    "        return (np.argmax(X @ self.W, axis=1, keepdims=True)).reshape(-1,1)"
   ]
  },
  {
   "cell_type": "markdown",
   "id": "601e65b1-2b60-4485-a1cd-4aa320222732",
   "metadata": {},
   "source": [
    "# Model Evaluation"
   ]
  },
  {
   "cell_type": "markdown",
   "id": "0bc016f0-88d9-413b-9853-43d6ad5e54fd",
   "metadata": {},
   "source": [
    "### Evaluation Methods and Visualizations"
   ]
  },
  {
   "cell_type": "code",
   "execution_count": 42,
   "id": "10c61dee-20b9-4894-8005-3c2dd8bf7a9c",
   "metadata": {},
   "outputs": [],
   "source": [
    "# I got this way of plotting confusion matrix from HW assignments in my ITCS-3156 Course (HW assignment hw-perceptron)\n",
    "\"\"\"\n",
    "    Function: Plots a more readable and understandable version of Sklearns confusion matrix\n",
    "    - y: actual labels from the dataset\n",
    "    - y_hatL predicted labels from the algorithm\n",
    "    - class_name_key: a dictionary where each key corresponds to a label in the y and y_hat data\n",
    "    Returns: A confusion matrix casted as a DataFrame\n",
    "    \"\"\"\n",
    "def plot_perceptron_confusion_matrix(y: np.ndarray, y_hat: np.ndarray, class_name_key: Dict[int, str] = None) -> pd.DataFrame:\n",
    "    # reshape to make 1D vector for consistency\n",
    "    y =  y.flatten() \n",
    "    # reshape to make 1D vector for consistency\n",
    "    y_hat = y_hat.flatten() \n",
    "    #create default matrix\n",
    "    cfm = confusion_matrix(y, y_hat)\n",
    "    \n",
    "    labels = np.sort(np.unique(y))\n",
    "    if class_name_key is not None:\n",
    "        classes = []\n",
    "        for l in labels:\n",
    "            class_name = class_name_key.get(l, l)\n",
    "            classes.append(class_name)\n",
    "        labels = classes\n",
    "        \n",
    "    columns, index = labels, labels\n",
    "    cfm_df = pd.DataFrame(cfm, index=index, columns=columns)\n",
    "    sbn.heatmap(cfm_df, annot=True)\n",
    "    plt.show()\n",
    "    return cfm_df"
   ]
  },
  {
   "cell_type": "code",
   "execution_count": 43,
   "id": "7f3b1688-0f80-4f86-8970-efc7013e0221",
   "metadata": {},
   "outputs": [],
   "source": [
    "# I got this way of plotting via hw-logistic-regression from class ITCS-3156\n",
    "\"\"\"\n",
    "Function: Plots sklearns confusion matrix for a OneHotEncoder labeled target\n",
    "y: true labels\n",
    "y_hat: predicted labels\n",
    "class_names: dictionary mapping labels to class names\n",
    "Returns: Confusion matrix casted as a DataFrame\n",
    "\"\"\"\n",
    "def plot_logistic_confusion_matrix(y: np.ndarray, y_hat: np.ndarray, class_names: Dict[int, str] = None) -> pd.DataFrame:\n",
    "    y =  y.flatten() # reshape to make 1D vector for consistency\n",
    "    y_hat = y_hat.flatten() # reshape to make 1D vector for consistency\n",
    "    \n",
    "    cfm = confusion_matrix(y_true=y, y_pred=y_hat)    \n",
    "    \n",
    "    labels = np.sort(np.unique(y))\n",
    "    if class_names is not None:\n",
    "        classes = []\n",
    "        for l in labels:\n",
    "            class_name = class_names.get(l, l)\n",
    "            classes.append(class_name)\n",
    "        labels = classes\n",
    "        \n",
    "    columns, index = labels, labels\n",
    "    cfm_df = pd.DataFrame(cfm, index=index, columns=columns)\n",
    "    sbn.heatmap(cfm_df, annot=True, fmt='g')\n",
    "    plt.show()\n",
    "    return cfm_df"
   ]
  },
  {
   "cell_type": "code",
   "execution_count": 44,
   "id": "6a73aa62-45b8-4e2d-a5cf-c10b2e47e271",
   "metadata": {},
   "outputs": [],
   "source": [
    "# I got this method of doing this via hw-perceptron from my ITCS-3156 course\n",
    "\"\"\" PPV = TP / (TP + FP)\n",
    "Function: Compute the precision score\n",
    "- y: true label\n",
    "- y_hat: predicted label\n",
    "Returns: Float indicating the precision score\n",
    "\"\"\"\n",
    "def ppv(y: np.ndarray, y_hat: np.ndarray) -> float:\n",
    "    y =  y.flatten() # reshape to make 1D vector for consistency\n",
    "    y_hat = y_hat.flatten() # reshape to make 1D vector for consistency\n",
    "    \n",
    "    cfm = confusion_matrix(y, y_hat)\n",
    "    return cfm[1][1] / (cfm[1][1] + cfm[0][1])"
   ]
  },
  {
   "cell_type": "code",
   "execution_count": 45,
   "id": "e69ef494-2cf1-4a5d-8c05-1f19054bc185",
   "metadata": {},
   "outputs": [],
   "source": [
    "# I got this method of using this evaluation via hw-perceptron from my ITCS-3156 course\n",
    "\"\"\" TPR = TP / (TP + FN)\n",
    "Function: Compute the recall score\n",
    "- y: true label\n",
    "- y_hat: predicted labels\n",
    "Returns: Float indicating recall score\n",
    "\"\"\"\n",
    "def tpr(y: np.ndarray, y_hat: np.ndarray) -> float:\n",
    "    cfm = confusion_matrix(y, y_hat)\n",
    "    return cfm[1][1] / (cfm[1][1] + cfm[1][0])"
   ]
  },
  {
   "cell_type": "code",
   "execution_count": 46,
   "id": "a1a92f9c-e37d-42bc-8dae-3c73d2b2ebcb",
   "metadata": {},
   "outputs": [],
   "source": [
    "# I got this method of using this evaluation via hw-perceptron from my ITCS-3156 course\n",
    "\"\"\" TNR = TN / (TN + FP)\n",
    "Function: Compute the Specificity score\n",
    "- y: true label\n",
    "- y_hat: predicted labels\n",
    "Returns; Float indicating specificity score\n",
    "\"\"\"\n",
    "def tnr(y: np.ndarray, y_hat: np.ndarray) -> float:\n",
    "    cfm = confusion_matrix(y, y_hat)\n",
    "    return cfm[0][0] / (cfm[0][0] + cfm[0][1])"
   ]
  },
  {
   "cell_type": "markdown",
   "id": "e6b2b416-1502-4c1d-83a9-0b2f7ad34dc6",
   "metadata": {},
   "source": [
    "### Training, Validation and Testing Data For Perceptron"
   ]
  },
  {
   "cell_type": "code",
   "execution_count": 48,
   "id": "3053ae8e-e3df-472c-9349-99998e74e740",
   "metadata": {},
   "outputs": [
    {
     "data": {
      "text/plain": [
       "((47111, 9), (47111, 1), (20191, 9), (20191, 1), (28844, 9), (28844, 1))"
      ]
     },
     "execution_count": 48,
     "metadata": {},
     "output_type": "execute_result"
    }
   ],
   "source": [
    "X_trn, y_trn, X_vld, y_vld, X_tst, y_tst = get_preprocessed_preceptron_data()\n",
    "X_trn.shape, y_trn.shape, X_vld.shape, y_vld.shape, X_tst.shape, y_tst.shape"
   ]
  },
  {
   "cell_type": "markdown",
   "id": "f1b81b0d-2ab9-424b-8835-b3db741e79b8",
   "metadata": {},
   "source": [
    "### Evaluate Perceptron"
   ]
  },
  {
   "cell_type": "code",
   "execution_count": 50,
   "id": "7c4d1fbc-70d2-411a-9880-36fd3f970b9f",
   "metadata": {},
   "outputs": [],
   "source": [
    "perceptron = Perceptron(alpha=.00001, seed=42, epochs=50)\n",
    "perceptron.fit(X_trn, y_trn, X_vld, y_vld)\n",
    "pred_trn = perceptron.predict(X_trn)\n",
    "pred_vld = perceptron.predict(X_vld)\n",
    "pred_tst = perceptron.predict(X_tst)"
   ]
  },
  {
   "cell_type": "code",
   "execution_count": 51,
   "id": "17eafa55-7df0-4578-85a1-9fb98f8cd981",
   "metadata": {},
   "outputs": [
    {
     "data": {
      "image/png": "[encoded data removed]",
      "text/plain": [
       "<Figure size 640x480 with 1 Axes>"
      ]
     },
     "metadata": {},
     "output_type": "display_data"
    }
   ],
   "source": [
    "plt.plot(perceptron.trn_acc, label='train')\n",
    "plt.plot(perceptron.vld_acc, label='valid')\n",
    "plt.title(\"Perceptron Learning Curve\")\n",
    "plt.xlabel(\"Epochs\")\n",
    "plt.ylabel(\"Error\")\n",
    "plt.legend(bbox_to_anchor=(1.2, 1.00))\n",
    "plt.show()"
   ]
  },
  {
   "cell_type": "code",
   "execution_count": 52,
   "id": "b717b337-621e-4abd-b6d0-93cdfa595f49",
   "metadata": {},
   "outputs": [
    {
     "name": "stdout",
     "output_type": "stream",
     "text": [
      "Train Acc: 0.953\n",
      "Validation Acc: 0.953\n",
      "Test Acc: 0.954\n",
      "----------------------\n",
      "Test TPR:  0.685\n",
      "Test TNR:  0.979\n",
      "Test PPV:  0.760\n"
     ]
    }
   ],
   "source": [
    "print('Train Acc: %.3f' % acc(y_trn, pred_trn))\n",
    "print('Validation Acc: %.3f' % acc(y_vld, pred_vld))\n",
    "print('Test Acc: %.3f' % acc(y_tst, pred_tst))\n",
    "print('----------------------')\n",
    "print('Test TPR: % .3f' % tpr(y_tst, pred_tst))\n",
    "print('Test TNR: % .3f' % tnr(y_tst, pred_tst))\n",
    "print('Test PPV: % .3f' % ppv(y_tst, pred_tst))"
   ]
  },
  {
   "cell_type": "code",
   "execution_count": 53,
   "id": "cdb0bd7a-aed3-46ae-afd6-12794b8ff782",
   "metadata": {},
   "outputs": [
    {
     "data": {
      "image/png": "[encoded data removed]",
      "text/plain": [
       "<Figure size 640x480 with 2 Axes>"
      ]
     },
     "metadata": {},
     "output_type": "display_data"
    }
   ],
   "source": [
    "# Plot the confusion matrix of the test data\n",
    "plot_perceptron_confusion_matrix(y_tst, pred_tst, {1: 'positive', -1: 'negative'});"
   ]
  },
  {
   "cell_type": "markdown",
   "id": "bdc3953b-8565-414b-b268-9c7175d2df0e",
   "metadata": {},
   "source": [
    "### Training, Validation, Testing Data For Logistic Regression"
   ]
  },
  {
   "cell_type": "code",
   "execution_count": 55,
   "id": "d17e6ed4-b64d-4c13-97d1-3a678369c7f0",
   "metadata": {},
   "outputs": [
    {
     "data": {
      "text/plain": [
       "((47111, 9), (47111, 2), (20191, 9), (20191, 2), (28844, 9), (28844, 2))"
      ]
     },
     "execution_count": 55,
     "metadata": {},
     "output_type": "execute_result"
    }
   ],
   "source": [
    "X_trn, y_trn, X_vld, y_vld, X_tst, y_tst = get_preprocessed_logistic_data()\n",
    "X_trn.shape, y_trn.shape, X_vld.shape, y_vld.shape, X_tst.shape, y_tst.shape"
   ]
  },
  {
   "cell_type": "markdown",
   "id": "699efec2-4604-4cb1-b690-7eea1eff850c",
   "metadata": {},
   "source": [
    "### Evaluate Logistic Regression"
   ]
  },
  {
   "cell_type": "code",
   "execution_count": 57,
   "id": "d4051887-7303-4225-8aac-daa8b0c20db9",
   "metadata": {},
   "outputs": [],
   "source": [
    "softmax_regression_model = SoftmaxRegression(alpha=.0001, batch_size=20, epochs=200, seed=42)\n",
    "softmax_regression_model.fit(X_trn, y_trn, X_vld, y_vld)\n",
    "trn_pred = softmax_regression_model.predict(X_trn)\n",
    "vld_pred = softmax_regression_model.predict(X_vld)\n",
    "tst_pred = softmax_regression_model.predict(X_tst)"
   ]
  },
  {
   "cell_type": "code",
   "execution_count": 58,
   "id": "d1cb52d3-091e-4c06-a260-1a5e1e30e3f4",
   "metadata": {},
   "outputs": [
    {
     "data": {
      "image/png": "[encoded data removed]",
      "text/plain": [
       "<Figure size 640x480 with 1 Axes>"
      ]
     },
     "metadata": {},
     "output_type": "display_data"
    }
   ],
   "source": [
    "plt.plot(softmax_regression_model.trn_loss, label='train')\n",
    "plt.plot(softmax_regression_model.vld_loss, label='valid')\n",
    "plt.title(\"Softmax Regression Learning Curve\")\n",
    "plt.xlabel(\"Epochs\")\n",
    "plt.ylabel(\"NLL Loss\")\n",
    "plt.legend(bbox_to_anchor=(1.2, 1.00))\n",
    "plt.show()"
   ]
  },
  {
   "cell_type": "code",
   "execution_count": 59,
   "id": "3dc62755-d659-4623-9faf-ad9830b47a02",
   "metadata": {},
   "outputs": [
    {
     "name": "stdout",
     "output_type": "stream",
     "text": [
      "Training Accuracy: 0.95708\n",
      "Validation Accuracy: 0.96048\n",
      "Testing Accuracy: 0.95760\n",
      "-----------------------------------------\n",
      "Test TPR:  0.593\n",
      "Test TNR:  0.993\n",
      "Test PPV:  0.897\n"
     ]
    }
   ],
   "source": [
    "trn_acc = acc(np.argmax(y_trn, axis=1), trn_pred)\n",
    "print('Training Accuracy: %.5f' % trn_acc)\n",
    "vld_acc = acc(np.argmax(y_vld, axis=1), vld_pred)\n",
    "print('Validation Accuracy: %.5f' % vld_acc)\n",
    "tst_acc = acc(np.argmax(y_tst, axis=1), tst_pred)\n",
    "print('Testing Accuracy: %.5f' % tst_acc)\n",
    "print('-----------------------------------------')\n",
    "print('Test TPR: % .3f' % tpr(np.argmax(y_tst, axis=1), tst_pred))\n",
    "print('Test TNR: % .3f' % tnr(np.argmax(y_tst, axis=1), tst_pred))\n",
    "print('Test PPV: % .3f' % ppv(np.argmax(y_tst, axis=1), tst_pred))"
   ]
  },
  {
   "cell_type": "code",
   "execution_count": 60,
   "id": "06b0b5bd-a1e2-431d-8798-01c32d7fa665",
   "metadata": {},
   "outputs": [
    {
     "data": {
      "image/png": "[encoded data removed]",
      "text/plain": [
       "<Figure size 640x480 with 2 Axes>"
      ]
     },
     "metadata": {},
     "output_type": "display_data"
    }
   ],
   "source": [
    "plot_logistic_confusion_matrix(np.argmax(y_tst, axis=1), tst_pred, {0: 'Negative', 1: 'Positive'});"
   ]
  }
 ],
 "metadata": {
  "kernelspec": {
   "display_name": "Python 3 (ipykernel)",
   "language": "python",
   "name": "python3"
  },
  "language_info": {
   "codemirror_mode": {
    "name": "ipython",
    "version": 3
   },
   "file_extension": ".py",
   "mimetype": "text/x-python",
   "name": "python",
   "nbconvert_exporter": "python",
   "pygments_lexer": "ipython3",
   "version": "3.12.4"
  }
 },
 "nbformat": 4,
 "nbformat_minor": 5
}
